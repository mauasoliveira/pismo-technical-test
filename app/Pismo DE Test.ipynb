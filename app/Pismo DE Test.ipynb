{
 "cells": [
  {
   "cell_type": "markdown",
   "id": "0fbf278b-168f-4602-8e50-69988739249c",
   "metadata": {},
   "source": [
    "# Pismo Data Engineering Test"
   ]
  },
  {
   "cell_type": "code",
   "execution_count": 1,
   "id": "968de5ef-3bb8-42fd-a4f4-a509fd1106d6",
   "metadata": {},
   "outputs": [
    {
     "name": "stdout",
     "output_type": "stream",
     "text": [
      "Hello Pismo\n"
     ]
    }
   ],
   "source": [
    "print('Hello Pismo')"
   ]
  },
  {
   "cell_type": "code",
   "execution_count": null,
   "id": "1581dc70-819e-4fe9-b40a-f1b34f810f01",
   "metadata": {},
   "outputs": [],
   "source": []
  },
  {
   "cell_type": "code",
   "execution_count": null,
   "id": "93ce5859-a8d4-48ca-9efb-fc8e0e0e9b2d",
   "metadata": {},
   "outputs": [],
   "source": []
  }
 ],
 "metadata": {
  "kernelspec": {
   "display_name": "Python 3 (ipykernel)",
   "language": "python",
   "name": "python3"
  },
  "language_info": {
   "codemirror_mode": {
    "name": "ipython",
    "version": 3
   },
   "file_extension": ".py",
   "mimetype": "text/x-python",
   "name": "python",
   "nbconvert_exporter": "python",
   "pygments_lexer": "ipython3",
   "version": "3.11.6"
  }
 },
 "nbformat": 4,
 "nbformat_minor": 5
}
